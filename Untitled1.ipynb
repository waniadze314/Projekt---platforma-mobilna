{
 "cells": [
  {
   "cell_type": "code",
   "execution_count": 4,
   "metadata": {},
   "outputs": [],
   "source": [
    "import sys\n",
    "sys.path.insert(0,'..')\n",
    "\n",
    "import mxnet as mx\n",
    "from mxnet import nd\n",
    "from mxnet import autograd\n",
    "from mxnet import gluon\n",
    "from mxnet import init\n",
    "\n",
    "from mxnet.gluon import data as gluon_data\n",
    "from mxnet.gluon import loss as gluon_loss\n",
    "from mxnet.gluon import nn \n",
    "\n",
    "import os\n",
    "import cv2\n",
    "import pandas as pd\n",
    "import shutil\n",
    "import time\n",
    "from tqdm import tqdm\n",
    "import matplotlib.pyplot as plt\n",
    "import numpy as np\n",
    "\n",
    "from image import *\n",
    "from classificator import *"
   ]
  },
  {
   "cell_type": "code",
   "execution_count": 2,
   "metadata": {},
   "outputs": [
    {
     "data": {
      "text/plain": [
       "array([[[152, 165, 174],\n",
       "        [154, 166, 176],\n",
       "        [155, 167, 177],\n",
       "        ..., \n",
       "        [148, 140, 136],\n",
       "        [148, 141, 133],\n",
       "        [148, 141, 133]],\n",
       "\n",
       "       [[156, 165, 173],\n",
       "        [156, 165, 173],\n",
       "        [158, 166, 174],\n",
       "        ..., \n",
       "        [150, 141, 133],\n",
       "        [150, 141, 133],\n",
       "        [150, 141, 133]],\n",
       "\n",
       "       [[158, 166, 171],\n",
       "        [158, 166, 171],\n",
       "        [158, 165, 173],\n",
       "        ..., \n",
       "        [149, 141, 138],\n",
       "        [154, 139, 136],\n",
       "        [155, 140, 138]],\n",
       "\n",
       "       ..., \n",
       "       [[129,  65,  18],\n",
       "        [128,  64,  17],\n",
       "        [132,  61,  16],\n",
       "        ..., \n",
       "        [255, 255, 255],\n",
       "        [255, 255, 255],\n",
       "        [255, 255, 255]],\n",
       "\n",
       "       [[126,  58,  24],\n",
       "        [126,  58,  24],\n",
       "        [131,  58,  20],\n",
       "        ..., \n",
       "        [255, 255, 255],\n",
       "        [255, 255, 255],\n",
       "        [255, 255, 255]],\n",
       "\n",
       "       [[132,  58,  27],\n",
       "        [130,  57,  26],\n",
       "        [132,  58,  22],\n",
       "        ..., \n",
       "        [255, 255, 255],\n",
       "        [255, 255, 255],\n",
       "        [255, 255, 255]]], dtype=uint8)"
      ]
     },
     "execution_count": 2,
     "metadata": {},
     "output_type": "execute_result"
    }
   ],
   "source": [
    "camera = imagecapture()\n",
    "frame = camera.capture_frame()   "
   ]
  },
  {
   "cell_type": "code",
   "execution_count": 17,
   "metadata": {},
   "outputs": [
    {
     "data": {
      "text/plain": [
       "(480, 640, 3)"
      ]
     },
     "execution_count": 17,
     "metadata": {},
     "output_type": "execute_result"
    }
   ],
   "source": [
    "data = nd.array(frame,dtype='float')\n",
    "data.shape"
   ]
  },
  {
   "cell_type": "code",
   "execution_count": 9,
   "metadata": {},
   "outputs": [],
   "source": [
    "net = Recognizer()"
   ]
  },
  {
   "cell_type": "code",
   "execution_count": 15,
   "metadata": {},
   "outputs": [],
   "source": [
    "label = nd.array([1, 0],ctx=mx.cpu())"
   ]
  },
  {
   "cell_type": "code",
   "execution_count": 18,
   "metadata": {},
   "outputs": [],
   "source": [
    "dataset = mx.gluon.data.dataset.ArrayDataset(data)"
   ]
  },
  {
   "cell_type": "code",
   "execution_count": 22,
   "metadata": {},
   "outputs": [],
   "source": [
    "iter = mx.gluon.data.DataLoader(dataset,1)"
   ]
  },
  {
   "cell_type": "code",
   "execution_count": null,
   "metadata": {},
   "outputs": [],
   "source": []
  },
  {
   "cell_type": "code",
   "execution_count": null,
   "metadata": {},
   "outputs": [],
   "source": []
  }
 ],
 "metadata": {
  "kernelspec": {
   "display_name": "Python 3",
   "language": "python",
   "name": "python3"
  },
  "language_info": {
   "codemirror_mode": {
    "name": "ipython",
    "version": 3
   },
   "file_extension": ".py",
   "mimetype": "text/x-python",
   "name": "python",
   "nbconvert_exporter": "python",
   "pygments_lexer": "ipython3",
   "version": "3.6.4"
  }
 },
 "nbformat": 4,
 "nbformat_minor": 2
}
