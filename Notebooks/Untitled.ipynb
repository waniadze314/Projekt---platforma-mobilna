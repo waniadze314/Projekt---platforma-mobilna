{
 "cells": [
  {
   "cell_type": "code",
   "execution_count": 1,
   "metadata": {},
   "outputs": [],
   "source": [
    "import sys\n",
    "sys.path.insert(0,'..')\n",
    "sys.path.insert(0,'..\\Python')\n",
    "\n",
    "import mxnet as mx\n",
    "from mxnet import nd\n",
    "from mxnet import autograd\n",
    "from mxnet import gluon\n",
    "from mxnet import init\n",
    "\n",
    "from mxnet.gluon import data as gluon_data\n",
    "from mxnet.gluon import loss as gluon_loss\n",
    "from mxnet.gluon import nn \n",
    "\n",
    "import os\n",
    "import cv2\n",
    "import pandas as pd\n",
    "import shutil\n",
    "import time\n",
    "from tqdm import tqdm\n",
    "import matplotlib.pyplot as plt\n",
    "import numpy as np\n",
    "from IPython.display import display\n",
    "from PIL import Image\n",
    "\n",
    "from image import *\n",
    "from classificator import *\n",
    "from reader import *"
   ]
  },
  {
   "cell_type": "code",
   "execution_count": 2,
   "metadata": {},
   "outputs": [
    {
     "ename": "NameError",
     "evalue": "name 'get_data_true' is not defined",
     "output_type": "error",
     "traceback": [
      "\u001b[1;31m---------------------------------------------------------------------------\u001b[0m",
      "\u001b[1;31mNameError\u001b[0m                                 Traceback (most recent call last)",
      "\u001b[1;32m<ipython-input-2-47e1a7165d30>\u001b[0m in \u001b[0;36m<module>\u001b[1;34m\u001b[0m\n\u001b[1;32m----> 1\u001b[1;33m \u001b[0mdata_true\u001b[0m\u001b[1;33m,\u001b[0m \u001b[0mlabels_true\u001b[0m \u001b[1;33m=\u001b[0m \u001b[0mget_data_true\u001b[0m\u001b[1;33m(\u001b[0m\u001b[1;34m\"D:\\PWR\\Semestr6\\Projekt\\Dataset\\LabelTrue\"\u001b[0m\u001b[1;33m)\u001b[0m\u001b[1;33m\u001b[0m\u001b[0m\n\u001b[0m\u001b[0;32m      2\u001b[0m \u001b[0mdata_false\u001b[0m\u001b[1;33m,\u001b[0m \u001b[0mlabels_false\u001b[0m \u001b[1;33m=\u001b[0m \u001b[0mget_data_false\u001b[0m\u001b[1;33m(\u001b[0m\u001b[1;34m\"D:\\PWR\\Semestr6\\Projekt\\Dataset\\LabelFalse\"\u001b[0m\u001b[1;33m)\u001b[0m\u001b[1;33m\u001b[0m\u001b[0m\n",
      "\u001b[1;31mNameError\u001b[0m: name 'get_data_true' is not defined"
     ]
    }
   ],
   "source": [
    "data_true, labels_true = get_data_true(\"D:\\PWR\\Semestr6\\Projekt\\Dataset\\LabelTrue\")\n",
    "data_false, labels_false = get_data_false(\"D:\\PWR\\Semestr6\\Projekt\\Dataset\\LabelFalse\")"
   ]
  },
  {
   "cell_type": "code",
   "execution_count": null,
   "metadata": {},
   "outputs": [],
   "source": []
  }
 ],
 "metadata": {
  "kernelspec": {
   "display_name": "Python 3",
   "language": "python",
   "name": "python3"
  },
  "language_info": {
   "codemirror_mode": {
    "name": "ipython",
    "version": 3
   },
   "file_extension": ".py",
   "mimetype": "text/x-python",
   "name": "python",
   "nbconvert_exporter": "python",
   "pygments_lexer": "ipython3",
   "version": "3.6.4"
  }
 },
 "nbformat": 4,
 "nbformat_minor": 2
}
